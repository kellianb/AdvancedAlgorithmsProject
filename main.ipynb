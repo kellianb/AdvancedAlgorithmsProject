{
 "cells": [
  {
   "cell_type": "markdown",
   "id": "0",
   "metadata": {},
   "source": [
    "# Jupyter notebook sample"
   ]
  },
  {
   "cell_type": "markdown",
   "id": "1",
   "metadata": {},
   "source": [
    "## Parameters and dataset"
   ]
  },
  {
   "cell_type": "code",
   "execution_count": null,
   "id": "2",
   "metadata": {},
   "outputs": [],
   "source": [
    "import os\n",
    "import ipywidgets as widgets\n",
    "from IPython.core.display import Markdown\n",
    "from IPython.display import display\n",
    "\n",
    "vehicle_capacity = 30\n",
    "\n",
    "datasets = []\n",
    "\n",
    "for root, dirs, files in os.walk(\"./Dataset\"):\n",
    "    for file in files:\n",
    "        if file.lower().endswith('.txt'):\n",
    "            datasets.append(os.path.join(root, file))\n",
    "\n",
    "filename = os.environ['CURRENT_DATASET_FILEPATH'] if 'CURRENT_DATASET_FILEPATH' in os.environ else datasets[0]\n",
    "\n",
    "# Create dropdown\n",
    "dropdown = widgets.Dropdown(\n",
    "    options=datasets,\n",
    "    value=filename,\n",
    "    description='Dataset:',\n",
    "    disabled=False\n",
    ")\n",
    "\n",
    "# Dropdown event handler\n",
    "def on_change(change):\n",
    "    global filename\n",
    "    filename = change['new']\n",
    "    os.environ['CURRENT_DATASET_FILEPATH'] = change['new']\n",
    "    \n",
    "# Connect the function to the dropdown\n",
    "dropdown.observe(on_change, \"value\")\n",
    "\n",
    "# Display the dropdown\n",
    "display(Markdown(\"#### Select Dataset:\"))\n",
    "display(dropdown)\n",
    "display(Markdown(\"<br> Re execute notebook after selecting dataset\"))\n"
   ]
  },
  {
   "cell_type": "markdown",
   "id": "3",
   "metadata": {},
   "source": [
    "## Fetch and parse data"
   ]
  },
  {
   "cell_type": "code",
   "execution_count": null,
   "id": "4",
   "metadata": {},
   "outputs": [],
   "source": [
    "print(filename)\n",
    "\n",
    "with open(filename) as file:\n",
    "    lines = file.readlines()\n",
    "\n",
    "lines = lines[10:-1]\n",
    "\n",
    "for i in range(len(lines)):\n",
    "    lines[i] = lines[i].strip().split()\n",
    "    lines[i] = list(map(int, lines[i]))\n",
    "\n",
    "lines"
   ]
  },
  {
   "cell_type": "markdown",
   "id": "5",
   "metadata": {},
   "source": [
    "## Create dataframe"
   ]
  },
  {
   "cell_type": "code",
   "execution_count": null,
   "id": "6",
   "metadata": {},
   "outputs": [],
   "source": [
    "import pandas as pd\n",
    "\n",
    "locations = pd.DataFrame(lines, columns=[\"id\", \"x\", \"y\", \"demand\", \"ready_time\", \"due_date\", \"service\"])\n",
    "\n",
    "locations"
   ]
  },
  {
   "cell_type": "code",
   "execution_count": null,
   "id": "7",
   "metadata": {},
   "outputs": [],
   "source": [
    "import matplotlib.pyplot as plt\n",
    "\n",
    "# Create the scatter plot\n",
    "plt.figure(figsize=(10, 6))\n",
    "\n",
    "# Draw warehouse\n",
    "plt.scatter(locations['x'][0], locations['y'][0], c='red', alpha=0.5)\n",
    "\n",
    "# Draw customers\n",
    "plt.scatter(locations['x'][1:], locations['y'][1:], c='blue', alpha=0.5)\n",
    "\n",
    "# Add labels for each point\n",
    "for i, row in locations.iterrows():\n",
    "    plt.annotate(row['id'],\n",
    "                 (row['x'], row['y']),\n",
    "                 xytext=(5, 5),  # 5 points offset\n",
    "                 textcoords='offset points',\n",
    "                 fontsize=10,\n",
    "                 ha='left')  # horizontal alignment\n",
    "\n",
    "\n",
    "\n",
    "# Customize the plot\n",
    "plt.title('Delivery locations (warehouse is in red)')\n",
    "plt.xlabel('X axis')\n",
    "plt.ylabel('Y axis')\n",
    "plt.grid(True, linestyle='--', alpha=0.7)\n",
    "\n",
    "# Show the plot\n",
    "plt.tight_layout()\n",
    "plt.show()\n"
   ]
  },
  {
   "cell_type": "markdown",
   "id": "8",
   "metadata": {},
   "source": [
    "## Turn into location objects"
   ]
  },
  {
   "cell_type": "code",
   "execution_count": null,
   "id": "9",
   "metadata": {},
   "outputs": [],
   "source": [
    "from src.Location import Location\n",
    "\n",
    "locations = [Location(**record) for record in locations.to_dict('records')]\n",
    "\n",
    "locations"
   ]
  },
  {
   "cell_type": "markdown",
   "id": "10",
   "metadata": {},
   "source": [
    "## Compute VRP solution using nearest neighbor"
   ]
  },
  {
   "cell_type": "code",
   "execution_count": null,
   "id": "11",
   "metadata": {},
   "outputs": [],
   "source": [
    "from src.Route import Route\n",
    "\n",
    "route = Route(warehouse=locations[0], customers=[])\n",
    "\n",
    "current = locations.pop(0)\n",
    "\n",
    "while locations:\n",
    "    current, locations = current.find_closest(locations)\n",
    "    route.customers.append(current)\n",
    "\n",
    "route.plot(figsize=(10, 10))"
   ]
  },
  {
   "cell_type": "code",
   "execution_count": null,
   "id": "12",
   "metadata": {},
   "outputs": [],
   "source": []
  }
 ],
 "metadata": {
  "kernelspec": {
   "display_name": "Python 3 (ipykernel)",
   "language": "python",
   "name": "python3"
  },
  "language_info": {
   "codemirror_mode": {
    "name": "ipython",
    "version": 3
   },
   "file_extension": ".py",
   "mimetype": "text/x-python",
   "name": "python",
   "nbconvert_exporter": "python",
   "pygments_lexer": "ipython3",
   "version": "3.12.7"
  }
 },
 "nbformat": 4,
 "nbformat_minor": 5
}
